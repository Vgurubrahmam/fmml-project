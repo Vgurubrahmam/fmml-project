{
 "cells": [
  {
   "cell_type": "code",
   "execution_count": 1,
   "metadata": {},
   "outputs": [
    {
     "name": "stdout",
     "output_type": "stream",
     "text": [
      "{4: 'guru', 2: 'in', 7: 'walking', 1: 'a', 6: 'ground'}\n",
      "walking\n"
     ]
    }
   ],
   "source": [
    "list_a=input().split()\n",
    "dict_a={}\n",
    "for i in list_a:\n",
    "    key=len(i)\n",
    "    value=i\n",
    "    dict_a[key]=value\n",
    "print(dict_a)\n",
    "print(dict_a[max(dict_a)])"
   ]
  },
  {
   "cell_type": "code",
   "execution_count": 14,
   "metadata": {},
   "outputs": [
    {
     "name": "stdout",
     "output_type": "stream",
     "text": [
      "prime\n"
     ]
    }
   ],
   "source": [
    "n=int(input())\n",
    "count=0\n",
    "prime=True\n",
    "if n<=1:\n",
    "    prime=False\n",
    "else:   \n",
    "    for i in range(2,int(n**0.5)+1):\n",
    "        if n%i==0:\n",
    "            count+=1\n",
    "            prime=False\n",
    "            break\n",
    "\n",
    "if count==0:\n",
    "    print(\"prime\")\n",
    "else:\n",
    "    print(\"not prime\")\n"
   ]
  },
  {
   "cell_type": "code",
   "execution_count": 4,
   "metadata": {},
   "outputs": [
    {
     "name": "stdout",
     "output_type": "stream",
     "text": [
      "[56, 87, 35, 38, 98, 45, 'guru']\n",
      "[56, 'bharini', 87, 35, 38, 98, 45, 'guru']\n",
      "[56, 'bharini', 87, 35, 38, 98, 45, 'guru']\n",
      "[56, 'bharini', 87, 35, 38, 98, 45]\n",
      "['bharini', 87, 35, 38, 98, 45]\n",
      "['bharini', 87, 35, 38, 98, 45, 78, 34, 89, 23, 87]\n",
      "1\n",
      "[87, 23, 89, 34, 78, 45, 98, 38, 35, 87, 'bharini']\n",
      "[]\n"
     ]
    }
   ],
   "source": [
    "arr=[56,87,35,38,98,45]\n",
    "arr2=[78,34,89,23,87]\n",
    "arr.append(\"guru\")\n",
    "print(arr)\n",
    "arr.insert(1,\"bharini\")\n",
    "print(arr)\n",
    "arr.count(38)\n",
    "print(arr)\n",
    "arr.pop()\n",
    "print(arr)\n",
    "arr.remove(56)\n",
    "print(arr)\n",
    "\n",
    "arr.extend(arr2)\n",
    "print(arr)\n",
    "index=arr.index(87)\n",
    "print(index)\n",
    "arr.reverse()\n",
    "print(arr)\n",
    "arr.clear()\n",
    "print(arr)\n"
   ]
  },
  {
   "cell_type": "code",
   "execution_count": 22,
   "metadata": {},
   "outputs": [
    {
     "name": "stdout",
     "output_type": "stream",
     "text": [
      "[56, 87, 35, 38, 98, 45]\n",
      "[56, 87, 35, 38, 98, 45]\n",
      "[56, 87, 35, 38, 98]\n",
      "1\n"
     ]
    }
   ],
   "source": [
    "arr=[56,87,35,38,98,45]\n",
    "arr2=arr.copy()\n",
    "print(arr)\n",
    "print(arr2)\n",
    "arr2.pop()\n",
    "print(arr2)\n",
    "c=arr.count(35)\n",
    "print(c)"
   ]
  },
  {
   "cell_type": "code",
   "execution_count": 2,
   "metadata": {},
   "outputs": [
    {
     "name": "stdout",
     "output_type": "stream",
     "text": [
      "[35, 38, 45, 56, 87, 98]\n"
     ]
    }
   ],
   "source": [
    "arr=[56,87,35,38,98,45]\n",
    "arr.sort()\n",
    "print(arr)"
   ]
  },
  {
   "cell_type": "code",
   "execution_count": 11,
   "metadata": {},
   "outputs": [
    {
     "name": "stdout",
     "output_type": "stream",
     "text": [
      "Bharini\n"
     ]
    }
   ],
   "source": [
    "s=\"bharini\"\n",
    "c=s.capitalize()\n",
    "print(c)"
   ]
  },
  {
   "cell_type": "code",
   "execution_count": 12,
   "metadata": {},
   "outputs": [
    {
     "name": "stdout",
     "output_type": "stream",
     "text": [
      "bharini\n"
     ]
    }
   ],
   "source": [
    "s=\"bharini\"\n",
    "c=s.casefold()\n",
    "print(c)\n"
   ]
  },
  {
   "cell_type": "code",
   "execution_count": 14,
   "metadata": {},
   "outputs": [
    {
     "name": "stdout",
     "output_type": "stream",
     "text": [
      "bharini\n",
      "BHARINI\n"
     ]
    }
   ],
   "source": [
    "s=\"bharini\"\n",
    "c=s.lower()\n",
    "b=s.upper()\n",
    "print(c)\n",
    "print(b)"
   ]
  },
  {
   "cell_type": "code",
   "execution_count": 28,
   "metadata": {},
   "outputs": [
    {
     "ename": "AttributeError",
     "evalue": "'bool' object has no attribute 'find'",
     "output_type": "error",
     "traceback": [
      "\u001b[1;31m---------------------------------------------------------------------------\u001b[0m",
      "\u001b[1;31mAttributeError\u001b[0m                            Traceback (most recent call last)",
      "Cell \u001b[1;32mIn[28], line 6\u001b[0m\n\u001b[0;32m      4\u001b[0m e\u001b[38;5;241m=\u001b[39ms\u001b[38;5;241m.\u001b[39mendswith(\u001b[38;5;124m\"\u001b[39m\u001b[38;5;124mam\u001b[39m\u001b[38;5;124m\"\u001b[39m)\n\u001b[0;32m      5\u001b[0m s\u001b[38;5;241m=\u001b[39ms\u001b[38;5;241m.\u001b[39mstartswith(\u001b[38;5;124m\"\u001b[39m\u001b[38;5;124mgu\u001b[39m\u001b[38;5;124m\"\u001b[39m)\n\u001b[1;32m----> 6\u001b[0m f\u001b[38;5;241m=\u001b[39m\u001b[43ms\u001b[49m\u001b[38;5;241;43m.\u001b[39;49m\u001b[43mfind\u001b[49m(\u001b[38;5;124m\"\u001b[39m\u001b[38;5;124mashok\u001b[39m\u001b[38;5;124m\"\u001b[39m)\n\u001b[0;32m      7\u001b[0m \u001b[38;5;28mprint\u001b[39m(c)\n\u001b[0;32m      8\u001b[0m \u001b[38;5;28mprint\u001b[39m(d)\n",
      "\u001b[1;31mAttributeError\u001b[0m: 'bool' object has no attribute 'find'"
     ]
    }
   ],
   "source": [
    "s=\"gurubrahmam bharini ashok sai\"\n",
    "c=s.count(\"u\")\n",
    "d=s.center(100)\n",
    "e=s.endswith(\"am\")\n",
    "s=s.startswith(\"gu\")\n",
    "\n",
    "print(c)\n",
    "print(d)\n",
    "print(e)\n",
    "print(s)\n",
    "print(f)\n"
   ]
  },
  {
   "cell_type": "code",
   "execution_count": 29,
   "metadata": {},
   "outputs": [
    {
     "name": "stdout",
     "output_type": "stream",
     "text": [
      "20\n"
     ]
    }
   ],
   "source": [
    "s=\"gurubrahmam bharini ashok sai\"\n",
    "f=s.find(\"ashok\")\n",
    "print(f)"
   ]
  },
  {
   "cell_type": "code",
   "execution_count": 31,
   "metadata": {},
   "outputs": [
    {
     "name": "stdout",
     "output_type": "stream",
     "text": [
      "True\n"
     ]
    }
   ],
   "source": [
    "d=\"01233\"\n",
    "c=d.isdigit()\n",
    "print(c)"
   ]
  },
  {
   "cell_type": "code",
   "execution_count": null,
   "metadata": {},
   "outputs": [],
   "source": [
    "capitalize,isupper,islower,upper,lower,casefold,index,rindex,count,split,rsplit,strip,rstrip,lstrip,islapha,isnumeric,isalnum,isdigit,isdecimal,rjust,ljust,find,rfind,reverse,istitle,title,swapcaase,center,endswith,startswith,zfill,translate,isascii,isspace,join,replace,isprintable,isidentifier,"
   ]
  },
  {
   "cell_type": "code",
   "execution_count": 1,
   "metadata": {},
   "outputs": [
    {
     "name": "stdout",
     "output_type": "stream",
     "text": [
      "False\n"
     ]
    }
   ],
   "source": [
    "s=\"gurubrahmam bharini ashok sai\"\n",
    "c=s.endswith(\"am\")\n",
    "print(c)"
   ]
  }
 ],
 "metadata": {
  "kernelspec": {
   "display_name": "Python 3",
   "language": "python",
   "name": "python3"
  },
  "language_info": {
   "codemirror_mode": {
    "name": "ipython",
    "version": 3
   },
   "file_extension": ".py",
   "mimetype": "text/x-python",
   "name": "python",
   "nbconvert_exporter": "python",
   "pygments_lexer": "ipython3",
   "version": "3.12.0"
  }
 },
 "nbformat": 4,
 "nbformat_minor": 2
}

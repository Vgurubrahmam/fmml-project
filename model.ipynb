{
  "cells": [
    {
      "cell_type": "markdown",
      "metadata": {
        "colab_type": "text",
        "id": "view-in-github"
      },
      "source": [
        "<a href=\"https://colab.research.google.com/github/Mekavenkatakishore/D-3F-308/blob/main/Copy_of_creditcard_.ipynb\" target=\"_parent\"><img src=\"https://colab.research.google.com/assets/colab-badge.svg\" alt=\"Open In Colab\"/></a>"
      ]
    },
    {
      "cell_type": "code",
      "execution_count": 7,
      "metadata": {
        "colab": {
          "background_save": true,
          "base_uri": "https://localhost:8080/"
        },
        "id": "_nXCe--eRgjw",
        "outputId": "663de3a4-6e99-4089-82da-20bcd585c1ea"
      },
      "outputs": [
        {
          "name": "stdout",
          "output_type": "stream",
          "text": [
            "There are 1 missing values in the target variable 'Class'.\n",
            "The transaction is not fraudulent.\n"
          ]
        },
        {
          "name": "stderr",
          "output_type": "stream",
          "text": [
            "c:\\Users\\vguru\\AppData\\Local\\Programs\\Python\\Python312\\Lib\\site-packages\\sklearn\\base.py:493: UserWarning: X does not have valid feature names, but StandardScaler was fitted with feature names\n",
            "  warnings.warn(\n"
          ]
        }
      ],
      "source": [
        "import pandas as pd\n",
        "from sklearn.preprocessing import StandardScaler\n",
        "from sklearn.impute import SimpleImputer\n",
        "from sklearn.linear_model import LogisticRegression\n",
        "\n",
        "# Load your dataset\n",
        "# Assuming your dataset is stored in a CSV file named 'creditcard.csv'\n",
        "df = pd.read_csv('creditcard.csv')\n",
        "\n",
        "# Check for missing values in the target variable (y)\n",
        "missing_values_y = df['Class'].isnull().sum()\n",
        "if missing_values_y > 0:\n",
        "    print(f\"There are {missing_values_y} missing values in the target variable 'Class'.\")\n",
        "    # Drop rows with missing values in the target variable\n",
        "    df.dropna(subset=['Class'], inplace=True)\n",
        "\n",
        "\n",
        "# Separate features (X) and target variable (y)\n",
        "X = df.drop(columns=['Class'])  # Features\n",
        "y = df['Class']  # Target variable\n",
        "\n",
        "# Filter relevant features for scaling\n",
        "relevant_features = ['V1', 'V2', 'Amount']  # Features relevant for prediction\n",
        "X_relevant = X[relevant_features]\n",
        "\n",
        "# Standardize the relevant features\n",
        "scaler = StandardScaler()\n",
        "X_relevant_scaled = scaler.fit_transform(X_relevant)\n",
        "\n",
        "# Train a logistic regression model\n",
        "model = LogisticRegression()\n",
        "model.fit(X_relevant_scaled, y)\n",
        "\n",
        "# Take inputs from the user\n",
        "v1 = -0.0727811733098497\n",
        "v2 = 2.53634673796914\n",
        "amount = 149.62  # New input for the amount attribute\n",
        "\n",
        "# Create user input array\n",
        "user_input = [[v1, v2, amount]]\n",
        "\n",
        "# Scale the user input using the same scaler\n",
        "user_input_scaled = scaler.transform(user_input)\n",
        "\n",
        "# Predict the class label for the user inputs\n",
        "prediction = model.predict(user_input_scaled)\n",
        "\n",
        "if prediction[0] == 0:\n",
        "    print(\"The transaction is not fraudulent.\")\n",
        "else:\n",
        "    print(\"The transaction is fraudulent.\")\n"
      ]
    },
    {
      "cell_type": "code",
      "execution_count": null,
      "metadata": {
        "id": "VEaUzIkkR1zQ"
      },
      "outputs": [],
      "source": []
    }
  ],
  "metadata": {
    "colab": {
      "authorship_tag": "ABX9TyMqwZyTzCrhYoveuLP4DxbO",
      "include_colab_link": true,
      "provenance": []
    },
    "kernelspec": {
      "display_name": "Python 3",
      "name": "python3"
    },
    "language_info": {
      "codemirror_mode": {
        "name": "ipython",
        "version": 3
      },
      "file_extension": ".py",
      "mimetype": "text/x-python",
      "name": "python",
      "nbconvert_exporter": "python",
      "pygments_lexer": "ipython3",
      "version": "3.12.0"
    }
  },
  "nbformat": 4,
  "nbformat_minor": 0
}
